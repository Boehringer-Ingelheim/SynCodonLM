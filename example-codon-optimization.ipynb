{
 "cells": [
  {
   "cell_type": "code",
   "execution_count": 2,
   "metadata": {},
   "outputs": [
    {
     "name": "stdout",
     "output_type": "stream",
     "text": [
      "---------- OPTIMIZING WITH DETERMINISM --------------\n",
      "final sequnece as a string CAAGTGCAGCTTGTGCAGTCTGGTGTTGAGGTGAAGAAGCCTGGTGCCTCTGTGAAGGTGTCCTGCAAGGCCTCTGGCTACACCTTCACTAACTACTACATGTACTGGGTGAGACAGGCTCCTGGACAGGGTCTGGAGTGGATGGGAGGCATCAACCCCAGCAATGGTGGCACCAACTTCAATGAGAAGTTCAAGAACAGAGTCACTCTGACCACTGACTCTTCCACCACCACTGCCTACATGGAGCTCAAGAGCCTGCAGTTTGATGACACTGCTGTGTACTACTGTGCCAGGCGGGACTACCGCTTTGACATGGGCTTTGACTACTGGGGCCAGGGCACCACTGTGACTGTGTCCTCC\n",
      "rounds taken to optimize 1\n",
      "---------- OPTIMIZING WITHOUT DETERMINISM --------------\n",
      "final sequnece as a string CAGGTGCAGTTGGTGCAGAGTGGAGTTGAGGTGAAGAAGCCTGGTGCATCAGTGAAAGTGTCCTGCAAGGCCTCAGGCTACACCTTCACCAACTACTACATGTACTGGGTGCGCCAGGCCCCTGGGCAAGGCCTGGAATGGATGGGGGGCATCAACCCCAGCAATGGGGGCACCAACTTCAATGAGAAGTTCAAGAACCGTGTGACCCTGACCACAGACTCATCCACCACCACAGCCTACATGGAGCTCAAGTCCCTGCAGTTTGATGACACAGCCGTCTACTACTGTGCCCGCCGGGACTACCGCTTCGACATGGGCTTCGACTACTGGGGCCAGGGCACCACTGTCACCGTGTCCTCC\n",
      "rounds taken to optimize 2\n"
     ]
    }
   ],
   "source": [
    "from SynCodonLM import CodonOptimizer\n",
    "\n",
    "# Initialize optimizer\n",
    "optimizer = CodonOptimizer()\n",
    "\n",
    "print('---------- OPTIMIZING WITH DETERMINISM --------------')\n",
    "result = optimizer.optimize(\n",
    "    protein_sequence=\"QVQLVQSGVEVKKPGASVKVSCKASGYTFTNYYMYWVRQAPGQGLEWMGGINPSNGGTNFNEKFKNRVTLTTDSSTTTAYMELKSLQFDDTAVYYCARRDYRFDMGFDYWGQGTTVTVSS\",\n",
    "    species_token_type=394, #C. griseus\n",
    "    deterministic=True #true by default\n",
    ")\n",
    "print(f'final sequnece as a string {result.sequence}')\n",
    "print(f'rounds taken to optimize {result.rounds}')\n",
    "\n",
    "print('---------- OPTIMIZING WITHOUT DETERMINISM --------------')\n",
    "result = optimizer.optimize(\n",
    "    protein_sequence=\"QVQLVQSGVEVKKPGASVKVSCKASGYTFTNYYMYWVRQAPGQGLEWMGGINPSNGGTNFNEKFKNRVTLTTDSSTTTAYMELKSLQFDDTAVYYCARRDYRFDMGFDYWGQGTTVTVSS\",\n",
    "    species_token_type=394,\n",
    "    deterministic=False,\n",
    "    max_rounds=2,\n",
    "    temperature=0.5,\n",
    "    top_k=None\n",
    ")\n",
    "print(f'final sequnece as a string {result.sequence}')\n",
    "print(f'rounds taken to optimize {result.rounds}')"
   ]
  }
 ],
 "metadata": {
  "kernelspec": {
   "display_name": "Python 3",
   "language": "python",
   "name": "python3"
  },
  "language_info": {
   "codemirror_mode": {
    "name": "ipython",
    "version": 3
   },
   "file_extension": ".py",
   "mimetype": "text/x-python",
   "name": "python",
   "nbconvert_exporter": "python",
   "pygments_lexer": "ipython3",
   "version": "3.12.0"
  },
  "orig_nbformat": 4,
  "vscode": {
   "interpreter": {
    "hash": "9240d949b7e875368571ba59acc67192d2efbcc4561b3c6f94c83d7858e18732"
   }
  }
 },
 "nbformat": 4,
 "nbformat_minor": 2
}
