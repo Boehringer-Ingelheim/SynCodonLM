{
 "cells": [
  {
   "cell_type": "code",
   "execution_count": 1,
   "metadata": {},
   "outputs": [
    {
     "data": {
      "text/plain": [
       "DebertaV2ForMaskedLM(\n",
       "  (deberta): DebertaV2Model(\n",
       "    (embeddings): DebertaV2Embeddings(\n",
       "      (word_embeddings): Embedding(69, 768, padding_idx=0)\n",
       "      (position_embeddings): Embedding(1024, 768)\n",
       "      (token_type_embeddings): Embedding(501, 768)\n",
       "      (LayerNorm): LayerNorm((768,), eps=1e-07, elementwise_affine=True)\n",
       "      (dropout): StableDropout()\n",
       "    )\n",
       "    (encoder): DebertaV2Encoder(\n",
       "      (layer): ModuleList(\n",
       "        (0-11): 12 x DebertaV2Layer(\n",
       "          (attention): DebertaV2Attention(\n",
       "            (self): DisentangledSelfAttention(\n",
       "              (query_proj): Linear(in_features=768, out_features=768, bias=True)\n",
       "              (key_proj): Linear(in_features=768, out_features=768, bias=True)\n",
       "              (value_proj): Linear(in_features=768, out_features=768, bias=True)\n",
       "              (pos_dropout): StableDropout()\n",
       "              (pos_key_proj): Linear(in_features=768, out_features=768, bias=True)\n",
       "              (pos_query_proj): Linear(in_features=768, out_features=768, bias=True)\n",
       "              (dropout): StableDropout()\n",
       "            )\n",
       "            (output): DebertaV2SelfOutput(\n",
       "              (dense): Linear(in_features=768, out_features=768, bias=True)\n",
       "              (LayerNorm): LayerNorm((768,), eps=1e-07, elementwise_affine=True)\n",
       "              (dropout): StableDropout()\n",
       "            )\n",
       "          )\n",
       "          (intermediate): DebertaV2Intermediate(\n",
       "            (dense): Linear(in_features=768, out_features=3072, bias=True)\n",
       "            (intermediate_act_fn): NewGELUActivation()\n",
       "          )\n",
       "          (output): DebertaV2Output(\n",
       "            (dense): Linear(in_features=3072, out_features=768, bias=True)\n",
       "            (LayerNorm): LayerNorm((768,), eps=1e-07, elementwise_affine=True)\n",
       "            (dropout): StableDropout()\n",
       "          )\n",
       "        )\n",
       "      )\n",
       "      (rel_embeddings): Embedding(2048, 768)\n",
       "    )\n",
       "  )\n",
       "  (cls): DebertaV2OnlyMLMHead(\n",
       "    (predictions): DebertaV2LMPredictionHead(\n",
       "      (transform): DebertaV2PredictionHeadTransform(\n",
       "        (dense): Linear(in_features=768, out_features=768, bias=True)\n",
       "        (transform_act_fn): NewGELUActivation()\n",
       "        (LayerNorm): LayerNorm((768,), eps=1e-07, elementwise_affine=True)\n",
       "      )\n",
       "      (decoder): Linear(in_features=768, out_features=69, bias=True)\n",
       "    )\n",
       "  )\n",
       ")"
      ]
     },
     "execution_count": 1,
     "metadata": {},
     "output_type": "execute_result"
    }
   ],
   "source": [
    "from transformers import AutoTokenizer, AutoModelForMaskedLM, AutoConfig\n",
    "import torch\n",
    "\n",
    "tokenizer = AutoTokenizer.from_pretrained(\"jheuschkel/SynCodonLM\")\n",
    "config = AutoConfig.from_pretrained(\"jheuschkel/SynCodonLM\")\n",
    "model = AutoModelForMaskedLM.from_pretrained(\"jheuschkel/SynCodonLM\", config=config)\n",
    "\n",
    "device = torch.device(\"cuda\" if torch.cuda.is_available() else \"cpu\")\n",
    "model.to(device)"
   ]
  },
  {
   "cell_type": "code",
   "execution_count": 4,
   "metadata": {},
   "outputs": [
    {
     "name": "stdout",
     "output_type": "stream",
     "text": [
      "torch.Size([1, 8, 69])\n",
      "torch.Size([768])\n"
     ]
    }
   ],
   "source": [
    "from SynCodonLM.utils import clean_split_sequence\n",
    "seq = 'ATGTCCACCGGGCGGTGA'\n",
    "seq = clean_split_sequence(seq)  # Returns: 'ATG TCC ACC GGG CGG TGA'\n",
    "\n",
    "token_type_id = 67  #E. coli\n",
    "inputs = tokenizer(seq, return_tensors=\"pt\").to(device)\n",
    "inputs['token_type_ids'] = torch.full_like(inputs['input_ids'], token_type_id) # manually set token_type_ids\n",
    "\n",
    "outputs = model(**inputs, output_hidden_states=True)\n",
    "\n",
    "embedding = outputs.hidden_states[-1] #this can also index any layer (0-11)\n",
    "mean_embedding = torch.mean(embedding, dim=1).squeeze(0)\n",
    "logits = outputs.logits  # shape: [batch_size, sequence_length, vocab_size]\n",
    "print(logits.shape)\n",
    "print (mean_embedding.shape)"
   ]
  },
  {
   "cell_type": "code",
   "execution_count": 11,
   "metadata": {},
   "outputs": [],
   "source": [
    "# List of sequences\n",
    "seqs = [\n",
    "    'ATGTCCACCGGGCGGTGA',\n",
    "    'ATGCGTACCGGGTAGTGA',\n",
    "    'ATGTTTACCGGGTGGTGA'\n",
    "]\n",
    "\n",
    "# List of token type ids (species)\n",
    "species_token_type_ids = [\n",
    "    67,   # E. coli\n",
    "    394,  # C. griseus\n",
    "    317   # H. sapiens\n",
    "]\n",
    "\n",
    "# Prepare list\n",
    "seqs = [clean_split_sequence(seq) for seq in seqs]\n",
    "\n",
    "# Tokenize batch with padding\n",
    "inputs = tokenizer(seqs, return_tensors=\"pt\", padding=True).to(device)\n",
    "\n",
    "# Create token_type_ids tensor\n",
    "batch_size, seq_len = inputs['input_ids'].shape\n",
    "token_type_ids = torch.zeros((batch_size, seq_len), dtype=torch.long).to(device)\n",
    "\n",
    "# Fill each row with the species-specific token_type_id\n",
    "for i, species_id in enumerate(species_token_type_ids):\n",
    "    token_type_ids[i, :] = species_id  # Fill entire row with the species ID\n",
    "\n",
    "# Add to inputs\n",
    "inputs['token_type_ids'] = token_type_ids\n",
    "\n",
    "# Run model\n",
    "outputs = model(**inputs)\n"
   ]
  }
 ],
 "metadata": {
  "kernelspec": {
   "display_name": "Python 3",
   "language": "python",
   "name": "python3"
  },
  "language_info": {
   "codemirror_mode": {
    "name": "ipython",
    "version": 3
   },
   "file_extension": ".py",
   "mimetype": "text/x-python",
   "name": "python",
   "nbconvert_exporter": "python",
   "pygments_lexer": "ipython3",
   "version": "3.12.0"
  },
  "orig_nbformat": 4,
  "vscode": {
   "interpreter": {
    "hash": "9240d949b7e875368571ba59acc67192d2efbcc4561b3c6f94c83d7858e18732"
   }
  }
 },
 "nbformat": 4,
 "nbformat_minor": 2
}
