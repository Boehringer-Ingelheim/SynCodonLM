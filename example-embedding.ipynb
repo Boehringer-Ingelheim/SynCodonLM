{
 "cells": [
  {
   "attachments": {},
   "cell_type": "markdown",
   "metadata": {},
   "source": [
    "Simple usage:"
   ]
  },
  {
   "cell_type": "code",
   "execution_count": 5,
   "metadata": {},
   "outputs": [
    {
     "name": "stdout",
     "output_type": "stream",
     "text": [
      "torch.Size([768])\n",
      "torch.Size([1, 8, 768])\n"
     ]
    }
   ],
   "source": [
    "from SynCodonLM import CodonEmbeddings\n",
    "\n",
    "model = CodonEmbeddings()\n",
    "seq = 'ATGTCCACCGGGCGGTGA'\n",
    "\n",
    "mean_embedding = model.get_mean_embedding(seq, species_token_type=67) #E. coli\n",
    "print(mean_embedding.shape)\n",
    "\n",
    "raw_embedding_final_layer = model.get_raw_embeddings(seq, species_token_type=67)\n",
    "print(raw_embedding_final_layer.hidden_states[-1].shape) #treat this like a typical Hugging Face model dictionary based output!"
   ]
  },
  {
   "attachments": {},
   "cell_type": "markdown",
   "metadata": {},
   "source": [
    "Manual Usage\n",
    "Prepare Sequence"
   ]
  },
  {
   "cell_type": "code",
   "execution_count": null,
   "metadata": {},
   "outputs": [],
   "source": [
    "from SynCodonLM import clean_split_sequence\n",
    "seq = 'ATGTCCACCGGGCGGTGA'\n",
    "seq = clean_split_sequence(seq)  # Returns: 'ATG TCC ACC GGG CGG TGA'"
   ]
  },
  {
   "attachments": {},
   "cell_type": "markdown",
   "metadata": {},
   "source": [
    "Load Model & Tokenizer from Hugging Face"
   ]
  },
  {
   "cell_type": "code",
   "execution_count": null,
   "metadata": {},
   "outputs": [],
   "source": [
    "from transformers import AutoTokenizer, AutoModelForMaskedLM, AutoConfig\n",
    "import torch\n",
    "\n",
    "tokenizer = AutoTokenizer.from_pretrained(\"jheuschkel/SynCodonLM\")\n",
    "config = AutoConfig.from_pretrained(\"jheuschkel/SynCodonLM\")\n",
    "model = AutoModelForMaskedLM.from_pretrained(\"jheuschkel/SynCodonLM\", config=config)\n",
    "\n",
    "device = torch.device(\"cuda\" if torch.cuda.is_available() else \"cpu\")\n",
    "model.to(device)"
   ]
  },
  {
   "attachments": {},
   "cell_type": "markdown",
   "metadata": {},
   "source": [
    "If there are networking issues, you can manually download the model from Hugging Face & place it in the /SynCodonLM directory"
   ]
  },
  {
   "cell_type": "code",
   "execution_count": null,
   "metadata": {},
   "outputs": [],
   "source": [
    "# tokenizer = AutoTokenizer.from_pretrained(\"./SynCodonLM\", trust_remote_code=True)\n",
    "# config = AutoConfig.from_pretrained(\"./SynCodonLM\", trust_remote_code=True)\n",
    "# model = AutoModel.from_pretrained(\"./SynCodonLM\", trust_remote_code=True, config=config)\n",
    "\n",
    "# device = torch.device(\"cuda\" if torch.cuda.is_available() else \"cpu\")\n",
    "# model.to(device)"
   ]
  },
  {
   "attachments": {},
   "cell_type": "markdown",
   "metadata": {},
   "source": [
    "Tokenize Input Sequences, Set Token Type ID Based on Species ID found here"
   ]
  },
  {
   "cell_type": "code",
   "execution_count": null,
   "metadata": {},
   "outputs": [],
   "source": [
    "token_type_id = 67  #E. coli\n",
    "inputs = tokenizer(seq, return_tensors=\"pt\").to(device)\n",
    "inputs['token_type_ids'] = torch.full_like(inputs['input_ids'], token_type_id) # manually set token_type_ids\n"
   ]
  },
  {
   "attachments": {},
   "cell_type": "markdown",
   "metadata": {},
   "source": [
    "Gather Model Outputs"
   ]
  },
  {
   "cell_type": "code",
   "execution_count": null,
   "metadata": {},
   "outputs": [],
   "source": [
    "outputs = model(**inputs, output_hidden_states=True)"
   ]
  },
  {
   "attachments": {},
   "cell_type": "markdown",
   "metadata": {},
   "source": [
    "Get Mean Embedding from Final Layer"
   ]
  },
  {
   "cell_type": "code",
   "execution_count": null,
   "metadata": {},
   "outputs": [],
   "source": [
    "embedding = outputs.hidden_states[-1] #this can also index any layer (0-11)\n",
    "mean_embedding = torch.mean(embedding, dim=1).squeeze(0)"
   ]
  },
  {
   "attachments": {},
   "cell_type": "markdown",
   "metadata": {},
   "source": [
    "You Can Also View Language Head Output"
   ]
  },
  {
   "cell_type": "code",
   "execution_count": null,
   "metadata": {},
   "outputs": [],
   "source": [
    "logits = outputs.logits  # shape: [batch_size, sequence_length, vocab_size]"
   ]
  },
  {
   "attachments": {},
   "cell_type": "markdown",
   "metadata": {},
   "source": [
    "Usage With Batches"
   ]
  },
  {
   "cell_type": "code",
   "execution_count": null,
   "metadata": {},
   "outputs": [],
   "source": [
    "from transformers import AutoTokenizer, AutoModelForMaskedLM, AutoConfig\n",
    "import torch\n",
    "from SynCodonLM import clean_split_sequence\n",
    "\n",
    "tokenizer = AutoTokenizer.from_pretrained(\"jheuschkel/SynCodonLM\")\n",
    "config = AutoConfig.from_pretrained(\"jheuschkel/SynCodonLM\")\n",
    "model = AutoModelForMaskedLM.from_pretrained(\"jheuschkel/SynCodonLM\", config=config)\n",
    "\n",
    "device = torch.device(\"cuda\" if torch.cuda.is_available() else \"cpu\")\n",
    "model.to(device)\n",
    "\n",
    "# List of sequences\n",
    "seqs = [\n",
    "    'ATGTCCACCGGGCGGTGA',\n",
    "    'ATGCGTACCGGGTAGTGA',\n",
    "    'ATGTTTACCGGGTGGTGA'\n",
    "]\n",
    "\n",
    "# List of token type ids (species)\n",
    "species_token_type_ids = [\n",
    "    67,   # E. coli\n",
    "    394,  # C. griseus\n",
    "    317   # H. sapiens\n",
    "]\n",
    "\n",
    "# Prepare list\n",
    "seqs = [clean_split_sequence(seq) for seq in seqs]\n",
    "\n",
    "# Tokenize batch with padding\n",
    "inputs = tokenizer(seqs, return_tensors=\"pt\", padding=True).to(device)\n",
    "\n",
    "# Create token_type_ids tensor\n",
    "batch_size, seq_len = inputs['input_ids'].shape\n",
    "token_type_ids = torch.zeros((batch_size, seq_len), dtype=torch.long).to(device)\n",
    "\n",
    "# Fill each row with the species-specific token_type_id\n",
    "for i, species_id in enumerate(species_token_type_ids):\n",
    "    token_type_ids[i, :] = species_id  # Fill entire row with the species ID\n",
    "\n",
    "# Add to inputs\n",
    "inputs['token_type_ids'] = token_type_ids\n",
    "\n",
    "# Run model\n",
    "outputs = model(**inputs)"
   ]
  }
 ],
 "metadata": {
  "kernelspec": {
   "display_name": "Python 3",
   "language": "python",
   "name": "python3"
  },
  "language_info": {
   "codemirror_mode": {
    "name": "ipython",
    "version": 3
   },
   "file_extension": ".py",
   "mimetype": "text/x-python",
   "name": "python",
   "nbconvert_exporter": "python",
   "pygments_lexer": "ipython3",
   "version": "3.12.0"
  },
  "orig_nbformat": 4,
  "vscode": {
   "interpreter": {
    "hash": "9240d949b7e875368571ba59acc67192d2efbcc4561b3c6f94c83d7858e18732"
   }
  }
 },
 "nbformat": 4,
 "nbformat_minor": 2
}
